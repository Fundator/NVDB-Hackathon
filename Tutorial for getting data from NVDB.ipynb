{
 "cells": [
  {
   "cell_type": "markdown",
   "metadata": {},
   "source": [
    "# Tutorial for getting data from NVDB\n",
    "This is a short tutorial on how to download your own data from nvdb. It is written in python, but using HTTP-requests in other languages should follow the same principles.\n",
    "![CARS](https://images-na.ssl-images-amazon.com/images/I/71rXEffVcEL._SX466_.jpg)"
   ]
  },
  {
   "cell_type": "markdown",
   "metadata": {},
   "source": [
    "# Read the docs\n",
    "The API documentation for NVDB can be found [here](https://www.vegvesen.no/nvdb/apidokumentasjon/)"
   ]
  },
  {
   "cell_type": "markdown",
   "metadata": {},
   "source": [
    "# Python-wrapper for NVDB, pnvdb\n",
    "Github user Acurus has made a python-wrapper for NVDB. It can be found [here](https://github.com/Acurus/pnvdb)"
   ]
  },
  {
   "cell_type": "markdown",
   "metadata": {},
   "source": [
    "# Necessary packages"
   ]
  },
  {
   "cell_type": "code",
   "execution_count": null,
   "metadata": {
    "ExecuteTime": {
     "end_time": "2019-06-19T15:01:31.855850Z",
     "start_time": "2019-06-19T15:01:28.812681Z"
    }
   },
   "outputs": [],
   "source": [
    "import requests\n",
    "import pandas as pd\n",
    "import json"
   ]
  },
  {
   "cell_type": "markdown",
   "metadata": {},
   "source": [
    "# List all types of road objects (vegobjekter)"
   ]
  },
  {
   "cell_type": "code",
   "execution_count": null,
   "metadata": {
    "ExecuteTime": {
     "end_time": "2019-06-19T15:01:32.055636Z",
     "start_time": "2019-06-19T15:01:31.856853Z"
    }
   },
   "outputs": [],
   "source": [
    "url = \"https://www.vegvesen.no/nvdb/api/v2/vegobjekter\"\n",
    "r = requests.get(url)\n",
    "vegobjekter = json.loads(r.content)"
   ]
  },
  {
   "cell_type": "code",
   "execution_count": null,
   "metadata": {
    "ExecuteTime": {
     "end_time": "2019-06-19T15:01:32.072432Z",
     "start_time": "2019-06-19T15:01:32.060402Z"
    }
   },
   "outputs": [],
   "source": [
    "df = pd.DataFrame(vegobjekter)\n",
    "df[\"id\"] = df[\"href\"].apply(lambda x: x.split(\"/\")[-1])"
   ]
  },
  {
   "cell_type": "code",
   "execution_count": null,
   "metadata": {
    "ExecuteTime": {
     "end_time": "2019-06-19T15:01:32.097499Z",
     "start_time": "2019-06-19T15:01:32.073434Z"
    }
   },
   "outputs": [],
   "source": [
    "df"
   ]
  },
  {
   "cell_type": "markdown",
   "metadata": {},
   "source": [
    "# Get list of ID's of specific road object type"
   ]
  },
  {
   "cell_type": "code",
   "execution_count": null,
   "metadata": {
    "ExecuteTime": {
     "end_time": "2019-06-19T15:01:32.606868Z",
     "start_time": "2019-06-19T15:01:32.098501Z"
    }
   },
   "outputs": [],
   "source": [
    "objektid = 25 #  Leskur\n",
    "url = f\"https://www.vegvesen.no/nvdb/api/v2/vegobjekter/{objektid}\"\n",
    "r = requests.get(url)\n",
    "vegobjekt = json.loads(r.content)"
   ]
  },
  {
   "cell_type": "code",
   "execution_count": null,
   "metadata": {
    "ExecuteTime": {
     "end_time": "2019-06-19T15:01:32.664019Z",
     "start_time": "2019-06-19T15:01:32.610880Z"
    }
   },
   "outputs": [],
   "source": [
    "vegobjekt"
   ]
  },
  {
   "cell_type": "markdown",
   "metadata": {},
   "source": [
    "# Pagination, get large amounts of data\n",
    "nvdb API has a limit of 1000 returned values per request. However, it has a handy paginationfunction to download higher amount of content. If we inspect the metadata part of the latest request, we can see that it includes an url to the next content"
   ]
  },
  {
   "cell_type": "code",
   "execution_count": null,
   "metadata": {
    "ExecuteTime": {
     "end_time": "2019-06-19T15:01:32.668030Z",
     "start_time": "2019-06-19T15:01:32.665022Z"
    }
   },
   "outputs": [],
   "source": [
    "vegobjekt[\"metadata\"]"
   ]
  },
  {
   "cell_type": "markdown",
   "metadata": {},
   "source": [
    "Lets get the next 1000 objects"
   ]
  },
  {
   "cell_type": "code",
   "execution_count": null,
   "metadata": {
    "ExecuteTime": {
     "end_time": "2019-06-19T15:01:34.820810Z",
     "start_time": "2019-06-19T15:01:32.669033Z"
    }
   },
   "outputs": [],
   "source": [
    "r = requests.get(vegobjekt[\"metadata\"][\"neste\"][\"href\"])\n",
    "next_1000 = json.loads(r.content)"
   ]
  },
  {
   "cell_type": "code",
   "execution_count": null,
   "metadata": {
    "ExecuteTime": {
     "end_time": "2019-06-19T15:01:34.865930Z",
     "start_time": "2019-06-19T15:01:34.822815Z"
    }
   },
   "outputs": [],
   "source": [
    "next_1000"
   ]
  },
  {
   "cell_type": "markdown",
   "metadata": {},
   "source": [
    "# Acessing a specific road object"
   ]
  },
  {
   "cell_type": "code",
   "execution_count": null,
   "metadata": {
    "ExecuteTime": {
     "end_time": "2019-06-19T15:01:35.028366Z",
     "start_time": "2019-06-19T15:01:34.866934Z"
    }
   },
   "outputs": [],
   "source": [
    "index = 0\n",
    "url = next_1000[\"objekter\"][index][\"href\"]\n",
    "r = requests.get(url)\n",
    "objekt = json.loads(r.content)"
   ]
  },
  {
   "cell_type": "code",
   "execution_count": null,
   "metadata": {
    "ExecuteTime": {
     "end_time": "2019-06-19T15:01:35.033380Z",
     "start_time": "2019-06-19T15:01:35.029369Z"
    }
   },
   "outputs": [],
   "source": [
    "objekt"
   ]
  },
  {
   "cell_type": "markdown",
   "metadata": {},
   "source": [
    "# Specifying and restricting the search\n",
    "NVDB-API has several parameters to specify where to get data, for example \n",
    "\n",
    "- Karutsnitt (rectangular map)\n",
    "- Fylke / Kommune (Region / Municipality)\n",
    "- Kontraktsområde\n",
    "\n",
    "More information can be found on the [API-documentation page](https://www.vegvesen.no/nvdb/apidokumentasjon/#/)"
   ]
  },
  {
   "cell_type": "markdown",
   "metadata": {
    "ExecuteTime": {
     "end_time": "2019-06-19T14:51:09.456717Z",
     "start_time": "2019-06-19T14:51:09.453709Z"
    }
   },
   "source": [
    "## Example, get all toll booths in trondheim"
   ]
  },
  {
   "cell_type": "code",
   "execution_count": null,
   "metadata": {
    "ExecuteTime": {
     "end_time": "2019-06-19T15:01:35.184786Z",
     "start_time": "2019-06-19T15:01:35.034383Z"
    },
    "scrolled": true
   },
   "outputs": [],
   "source": [
    "vegobjid = 45  #  Toll booths\n",
    "kommuneid = 5001  #  Trondheim\n",
    "url = f\"https://www.vegvesen.no/nvdb/api/v2/vegobjekter/{vegobjid}?kommune={kommuneid}\"\n",
    "r = requests.get(url)\n",
    "toll_booths_trd = json.loads(r.content)\n",
    "toll_booths_trd"
   ]
  },
  {
   "cell_type": "markdown",
   "metadata": {},
   "source": [
    "## Lets check one of the toll booths in trondheim"
   ]
  },
  {
   "cell_type": "code",
   "execution_count": null,
   "metadata": {
    "ExecuteTime": {
     "end_time": "2019-06-19T15:02:33.396016Z",
     "start_time": "2019-06-19T15:02:33.240601Z"
    }
   },
   "outputs": [],
   "source": [
    "index = 0\n",
    "example_toll_booth_url = toll_booths_trd[\"objekter\"][index][\"href\"]\n",
    "r = requests.get(example_toll_booth_url)\n",
    "json.loads(r.content)"
   ]
  },
  {
   "cell_type": "markdown",
   "metadata": {},
   "source": [
    "# Geospatial data in NVDB\n",
    "Road objects in NVDB is described mostly using UTM33N."
   ]
  },
  {
   "cell_type": "code",
   "execution_count": null,
   "metadata": {
    "ExecuteTime": {
     "end_time": "2019-06-19T15:01:35.354574Z",
     "start_time": "2019-06-19T15:01:35.347225Z"
    }
   },
   "outputs": [],
   "source": [
    "geometri = objekt[\"geometri\"]\n",
    "geometri"
   ]
  },
  {
   "cell_type": "markdown",
   "metadata": {},
   "source": [
    "# <font color=green>Tips og triks<font>"
   ]
  },
  {
   "cell_type": "markdown",
   "metadata": {
    "ExecuteTime": {
     "end_time": "2019-06-19T09:00:50.790340Z",
     "start_time": "2019-06-19T09:00:50.787436Z"
    }
   },
   "source": [
<<<<<<< HEAD
<<<<<<< HEAD
=======
    "# <font color=green>TIP<font> \n",
>>>>>>> 7fc241d4e8dbc7e61d8671062161d71bc953e31e
=======
    "# <font color=green>TIP<font> \n",
>>>>>>> 7fc241d4e8dbc7e61d8671062161d71bc953e31e
    "## Using geodaisy to parse WKT\n",
    "For most WKT-types, with the exception of some geometry-types, like LINESTRING Z, geodaisy is one of the most lightweight libraries for parsing wkt"
   ]
  },
  {
   "cell_type": "code",
   "execution_count": null,
   "metadata": {
    "ExecuteTime": {
     "end_time": "2019-06-19T15:01:35.383319Z",
     "start_time": "2019-06-19T15:01:35.357250Z"
    }
   },
   "outputs": [],
   "source": [
    "import geodaisy.converters as convert "
   ]
  },
  {
   "cell_type": "code",
   "execution_count": null,
   "metadata": {
    "ExecuteTime": {
     "end_time": "2019-06-19T15:01:35.387330Z",
     "start_time": "2019-06-19T15:01:35.384322Z"
    }
   },
   "outputs": [],
   "source": [
    "geo = convert.wkt_to_geo_interface(geometri[\"wkt\"])\n",
    "geo"
   ]
  },
  {
   "cell_type": "code",
   "execution_count": null,
   "metadata": {
    "ExecuteTime": {
     "end_time": "2019-06-19T15:01:35.399363Z",
     "start_time": "2019-06-19T15:01:35.388333Z"
    }
   },
   "outputs": [],
   "source": [
    "easting, northing = geo[\"coordinates\"]"
   ]
  },
  {
   "cell_type": "markdown",
   "metadata": {},
   "source": [
<<<<<<< HEAD
<<<<<<< HEAD
=======
    "# <font color=green>TIP<font>\n",
>>>>>>> 7fc241d4e8dbc7e61d8671062161d71bc953e31e
=======
    "# <font color=green>TIP<font>\n",
>>>>>>> 7fc241d4e8dbc7e61d8671062161d71bc953e31e
    "# Converting UTM to lat-long\n",
    "For some applications like google maps api, lat-long is the only accepted geo-description. **UTM** is an easy-to-use library for python for converting  between UTM and lat-long. <font color=red>Some geometries may exceed the northing / easting ranges<font>"
   ]
  },
  {
   "cell_type": "code",
   "execution_count": null,
   "metadata": {
    "ExecuteTime": {
     "end_time": "2019-06-19T15:01:35.420419Z",
     "start_time": "2019-06-19T15:01:35.400365Z"
    }
   },
   "outputs": [],
   "source": [
    "import utm"
   ]
  },
  {
   "cell_type": "code",
   "execution_count": null,
   "metadata": {
    "ExecuteTime": {
     "end_time": "2019-06-19T15:01:35.423427Z",
     "start_time": "2019-06-19T15:01:35.421421Z"
    }
   },
   "outputs": [],
   "source": [
    "lat, lon = utm.to_latlon(easting, northing, zone_number=33, northern=True, strict=False)"
   ]
  },
  {
   "cell_type": "code",
   "execution_count": null,
   "metadata": {
    "ExecuteTime": {
     "end_time": "2019-06-19T15:01:35.433454Z",
     "start_time": "2019-06-19T15:01:35.424430Z"
    },
    "scrolled": true
   },
   "outputs": [],
   "source": [
    "lat, lon"
   ]
  }
 ],
 "metadata": {
  "kernelspec": {
   "display_name": "Python 3",
   "language": "python",
   "name": "python3"
  },
  "language_info": {
   "codemirror_mode": {
    "name": "ipython",
    "version": 3
   },
   "file_extension": ".py",
   "mimetype": "text/x-python",
   "name": "python",
   "nbconvert_exporter": "python",
   "pygments_lexer": "ipython3",
   "version": "3.7.3"
  },
  "varInspector": {
   "cols": {
    "lenName": 16,
    "lenType": 16,
    "lenVar": "500"
   },
   "kernels_config": {
    "python": {
     "delete_cmd_postfix": "",
     "delete_cmd_prefix": "del ",
     "library": "var_list.py",
     "varRefreshCmd": "print(var_dic_list())"
    },
    "r": {
     "delete_cmd_postfix": ") ",
     "delete_cmd_prefix": "rm(",
     "library": "var_list.r",
     "varRefreshCmd": "cat(var_dic_list()) "
    }
   },
   "types_to_exclude": [
    "module",
    "function",
    "builtin_function_or_method",
    "instance",
    "_Feature"
   ],
   "window_display": true
  }
 },
 "nbformat": 4,
 "nbformat_minor": 2
}
